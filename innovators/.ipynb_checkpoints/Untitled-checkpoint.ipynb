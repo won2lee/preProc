{
 "cells": [
  {
   "cell_type": "code",
   "execution_count": 1,
   "metadata": {},
   "outputs": [],
   "source": [
    "Xen = \"\"\"The computer and the Internet are among the most important inventions of our era, but few people know who created them. They were not conjured up in a garret or garage by solo inventors suitable to be singled out on magazine covers or put into a pantheon with Edison, Bell, and Morse. Instead, most of the innovations of the digital age were done collaboratively. There were a lot of fascinating people involved, some ingenious and a few even geniuses. This is the story of these pioneers, hackers, inventors, and entrepreneurs—who they were, how their minds worked, and what made them so creative. It’s also a narrative of how they collaborated and why their ability to work as teams made them even more creative. The tale of their teamwork is important because we don’t often focus on how central that skill is to innovation. There are thousands of books celebrating people we biographers portray, or mythologize, as lone inventors. I’ve produced a few myself. Search the phrase “the man who invented” on Amazon and you get 1,860 book results. But we have far fewer tales of collaborative creativity, which is actually more important in understanding how today’s technology revolution was fashioned. It can also be more interesting. We talk so much about innovation these days that it has become a buzzword, drained of clear meaning. So in this book I set out to report on how innovation actually happens in the real world. How did the most imaginative innovators of our time turn disruptive ideas into realities? I focus on a dozen or so of the most significant breakthroughs of the digital age and the people who made them. What ingredients produced their creative leaps? What skills proved most useful? How did they lead and collaborate? Why did some succeed and others fail? I also explore the social and cultural forces that provide the atmosphere for innovation. For the birth of the digital age, this included a research ecosystem that was nurtured by government spending and managed by a military-industrial-academic collaboration. Intersecting with that was a loose alliance of community organizers, communal-minded hippies, do-it-yourself hobbyists, and homebrew hackers, most of whom were suspicious of centralized authority. Histories can be written with a different emphasis on any of these factors. An example is the invention of the Harvard/IBM Mark I, the first big electromechanical computer. One of its programmers, Grace Hopper, wrote a history that focused on its primary creator, Howard Aiken. IBM countered with a history that featured its teams of faceless engineers who contributed the incremental innovations, from counters to card feeders, that went into the machine. Likewise, what emphasis should be put on great individuals versus on cultural currents has long been a matter of dispute; in the mid-nineteenth century, Thomas Carlyle declared that “the history of the world is but the biography of great men,” and Herbert Spencer responded with a theory that emphasized the role of societal forces. Academics and participants often view this balance differently. “As a professor, I tended to think of history as run by impersonal forces,” Henry Kissinger told reporters during one of his Middle East shuttle missions in the 1970s. “But when you see it in practice, you see the difference personalities make.”1 When it comes to digital-age innovation, as with Middle East peacemaking, a variety of personal and cultural forces all come into play, and in this book I sought to weave them together. The Internet was originally built to facilitate collaboration. By contrast, personal computers, especially those meant to be used at home, were devised as tools for individual creativity. For more than a decade, beginning in the early 1970s, the development of networks and that of home computers proceeded separately from one another. They finally began coming together in the late 1980s with the advent of modems, online services, and the Web. Just as combining the steam engine with ingenious machinery drove the Industrial Revolution, the combination of the computer and distributed networks led to a digital revolution that allowed anyone to create, disseminate, and access any information anywhere. Historians of science are sometimes wary about calling periods of great change revolutions, because they prefer to view progress as evolutionary. “There was no such thing as the Scientific Revolution, and this is a book about it,” is the wry opening sentence of the Harvard professor Steven Shapin’s book on that period. One method that Shapin used to escape his half-joking contradiction is to note how the key players of the period “vigorously expressed the view” that they were part of a revolution. “Our sense of radical change afoot comes substantially from them.”2 Likewise, most of us today share a sense that the digital advances of the past half century are transforming, perhaps even revolutionizing the way we live. I can recall the excitement that each new breakthrough engendered. My father and uncles were electrical engineers, and like many of the characters in this book I grew up with a basement workshop that had circuit boards to be soldered, radios to be opened, tubes to be tested, and boxes of transistors and resistors to be sorted and deployed. As an electronics geek who loved Heathkits and ham radios (WA5JTP), I can remember when vacuum tubes gave way to transistors. At college I learned programming using punch cards and recall when the agony of batch processing was replaced by the ecstasy of hands-on interaction. In the 1980s I thrilled to the static and screech that modems made when they opened for you the weirdly magical realm of online services and bulletin boards, and in the early 1990s I helped to run a digital division at Time and Time Warner that launched new Web and broadband Internet services. As Wordsworth said of the enthusiasts who were present at the beginning of the French Revolution, “Bliss was it in that dawn to be alive.” I began work on this book more than a decade ago. It grew out of my fascination with the digital-age advances I had witnessed and also from my biography of Benjamin Franklin, who was an innovator, inventor, publisher, postal service pioneer, and all-around information networker and entrepreneur. I wanted to step away from doing biographies, which tend to emphasize the role of singular individuals, and once again do a book like The Wise Men, which I had coauthored with a colleague about the creative teamwork of six friends who shaped America’s cold war policies. My initial plan was to focus on the teams that invented the Internet. But when I interviewed Bill Gates, he convinced me that the simultaneous emergence of the Internet and the personal computer made for a richer tale. I put this book on hold early in 2009, when I began working on a biography of Steve Jobs. But his story reinforced my interest in how the development of the\"\"\""
   ]
  },
  {
   "cell_type": "code",
   "execution_count": 23,
   "metadata": {},
   "outputs": [],
   "source": [
    "Xen =\"\"\"The computer and the Internet are among the most important inventions of our era, but few people know who created them. They were not conjured up in a garret or garage by solo inventors suitable to be singled out on magazine covers or put into a pantheon with Edison, Bell, and Morse. Instead, most of the innovations of the digital age were done collaboratively. There were a lot of fascinating people involved, some ingenious and a few even geniuses. This is the story of these pioneers, hackers, inventors, and entrepreneurs—who they were, how their minds worked, and what made them so creative. It’s also a narrative of how they collaborated and why their ability to work as teams made them even more creative. The tale of their teamwork is important because we don’t often focus on how central that skill is to innovation. There are thousands of books celebrating people we biographers portray, or mythologize, as lone inventors. I’ve produced a few myself. Search the phrase “the man who invented” on Amazon and you get 1,860 book results. But we have far fewer tales of collaborative creativity, which is actually more important in understanding how today’s technology revolution was fashioned. It can also be more interesting. We talk so much about innovation these days that it has become a buzzword, drained of clear meaning. So in this book I set out to report on how innovation actually happens in the real world. How did the most imaginative innovators of our time turn disruptive ideas into realities? I focus on a dozen or so of the most significant breakthroughs of the digital age and the people who made them. What ingredients produced their creative leaps? What skills proved most useful? How did they lead and collaborate? Why did some succeed and others fail? I also explore the social and cultural forces that provide the atmosphere for innovation. For the birth of the digital age, this included a research ecosystem that was nurtured by government spending and managed by a military-industrial-academic collaboration. Intersecting with that was a loose alliance of community organizers, communal-minded hippies, do-it-yourself hobbyists, and homebrew hackers, most of whom were suspicious of centralized authority. Histories can be written with a different emphasis on any of these factors. An example is the invention of the Harvard/IBM Mark I, the first big electromechanical computer. One of its programmers, Grace Hopper, wrote a history that focused on its primary creator, Howard Aiken. IBM countered with a history that featured its teams of faceless engineers who contributed the incremental innovations, from counters to card feeders, that went into the machine. Likewise, what emphasis should be put on great individuals versus on cultural currents has long been a matter of dispute; in the mid-nineteenth century, Thomas Carlyle declared that “the history of the world is but the biography of great men,” and Herbert Spencer responded with a theory that emphasized the role of societal forces. Academics and participants often view this balance differently. “As a professor, I tended to think of history as run by impersonal forces,” Henry Kissinger told reporters during one of his Middle East shuttle missions in the 1970s. “But when you see it in practice, you see the difference personalities make.”1 When it comes to digital-age innovation, as with Middle East peacemaking, a variety of personal and cultural forces all come into play, and in this book I sought to weave them together. The Internet was originally built to facilitate collaboration. By contrast, personal computers, especially those meant to be used at home, were devised as tools for individual creativity. For more than a decade, beginning in the early 1970s, the development of networks and that of home computers proceeded separately from one another. They finally began coming together in the late 1980s with the advent of modems, online services, and the Web. Just as combining the steam engine with ingenious machinery drove the Industrial Revolution, the combination of the computer and distributed networks led to a digital revolution that allowed anyone to create, disseminate, and access any information anywhere. Historians of science are sometimes wary about calling periods of great change revolutions, because they prefer to view progress as evolutionary. “There was no such thing as the Scientific Revolution, and this is a book about it,” is the wry opening sentence of the Harvard professor Steven Shapin’s book on that period. One method that Shapin used to escape his half-joking contradiction is to note how the key players of the period “vigorously expressed the view” that they were part of a revolution. “Our sense of radical change afoot comes substantially from them.”2 Likewise, most of us today share a sense that the digital advances of the past half century are transforming, perhaps even revolutionizing the way we live. I can recall the excitement that each new breakthrough engendered. My father and uncles were electrical engineers, and like many of the characters in this book I grew up with a basement workshop that had circuit boards to be soldered, radios to be opened, tubes to be tested, and boxes of transistors and resistors to be sorted and deployed. As an electronics geek who loved Heathkits and ham radios (WA5JTP), I can remember when vacuum tubes gave way to transistors. At college I learned programming using punch cards and recall when the agony of batch processing was replaced by the ecstasy of hands-on interaction. In the 1980s I thrilled to the static and screech that modems made when they opened for you the weirdly magical realm of online services and bulletin boards, and in the early 1990s I helped to run a digital division at Time and Time Warner that launched new Web and broadband Internet services. As Wordsworth said of the enthusiasts who were present at the beginning of the French Revolution, “Bliss was it in that dawn to be alive.” I began work on this book more than a decade ago. It grew out of my fascination with the digital-age advances I had witnessed and also from my biography of Benjamin Franklin, who was an innovator, inventor, publisher, postal service pioneer, and all-around information networker and entrepreneur. I wanted to step away from doing biographies, which tend to emphasize the role of singular individuals, and once again do a book like The Wise Men, which I had coauthored with a colleague about the creative teamwork of six friends who shaped America’s cold war policies. My initial plan was to focus on the teams that invented the Internet. But when I interviewed Bill Gates, he convinced me that the simultaneous emergence of the Internet and the personal computer made for a richer tale. I put this book on hold early in 2009, when I began working on a biography of Steve Jobs. But his story reinforced my interest in how the development of the Internet and computers intertwined, so as soon as I finished that book, I went back to work on this tale of digital-age innovators. The protocols of the Internet were devised by peer collaboration, and the resulting system seemed to have embedded in its genetic code a propensity to facilitate such collaboration. The power to create and transmit information was fully distributed to each of the nodes, and any attempt to impose controls or a hierarchy could be routed around. Without falling into the teleological fallacy of ascribing intentions or a personality to technology, it’s fair to say that a system of open networks connected to individually controlled computers tended, as the printing press did, to wrest control over the distribution of information from gatekeepers, central authorities, and institutions that employed scriveners and scribes. It became easier for ordinary folks to create and share content. The collaboration that created the digital age was not just among peers but also between generations. Ideas were handed off from one cohort of innovators to the next. Another theme that emerged from my research was that users repeatedly commandeered digital innovations to create communications and social networking tools. I also became interested in how the quest for artificial intelligence—machines that think on their own—has consistently proved less fruitful than creating ways to forge a partnership or symbiosis between people and machines. In other words, the collaborative creativity that marked the digital age included collaboration between humans and machines. Finally, I was struck by how the truest creativity of the digital age came from those who were able to connect the arts and sciences. They believed that beauty mattered. “I always thought of myself as a humanities person as a kid, but I liked electronics,” Jobs told me when I embarked on his biography. “Then I read something that one of my heroes, Edwin Land of Polaroid, said about the importance of people who could stand at the intersection of humanities and sciences, and I decided that’s what I wanted to do.” The people who were comfortable at this humanities-technology intersection helped to create the human-machine symbiosis that is at the core of this story. Like many aspects of the digital age, this idea that innovation resides where art and science connect is not new. Leonardo da Vinci was the exemplar of the creativity that flourishes when the humanities and sciences interact. When Einstein was stymied while working out General Relativity, he would pull out his violin and play Mozart until he could reconnect to what he called the harmony of the spheres. When it comes to computers, there is one other historical figure, not as well known, who embodied the combination of the arts and sciences. Like her famous father, she understood the romance of poetry. Unlike him, she also saw the romance of math and machinery. And that is where our story begins.\"\"\""
   ]
  },
  {
   "cell_type": "code",
   "execution_count": 24,
   "metadata": {},
   "outputs": [],
   "source": [
    "Xen = Xen.split('. ')"
   ]
  },
  {
   "cell_type": "code",
   "execution_count": 25,
   "metadata": {},
   "outputs": [
    {
     "data": {
      "text/plain": [
       "67"
      ]
     },
     "execution_count": 25,
     "metadata": {},
     "output_type": "execute_result"
    }
   ],
   "source": [
    "len(Xen)"
   ]
  },
  {
   "cell_type": "code",
   "execution_count": 6,
   "metadata": {},
   "outputs": [
    {
     "data": {
      "text/plain": [
       "['The computer and the Internet are among the most important inventions of our era, but few people know who created them',\n",
       " 'They were not conjured up in a garret or garage by solo inventors suitable to be singled out on magazine covers or put into a pantheon with Edison, Bell, and Morse',\n",
       " 'Instead, most of the innovations of the digital age were done collaboratively',\n",
       " 'There were a lot of fascinating people involved, some ingenious and a few even geniuses',\n",
       " 'This is the story of these pioneers, hackers, inventors, and entrepreneurs—who they were, how their minds worked, and what made them so creative',\n",
       " 'It’s also a narrative of how they collaborated and why their ability to work as teams made them even more creative',\n",
       " 'The tale of their teamwork is important because we don’t often focus on how central that skill is to innovation',\n",
       " 'There are thousands of books celebrating people we biographers portray, or mythologize, as lone inventors',\n",
       " 'I’ve produced a few myself',\n",
       " 'Search the phrase “the man who invented” on Amazon and you get 1,860 book results']"
      ]
     },
     "execution_count": 6,
     "metadata": {},
     "output_type": "execute_result"
    }
   ],
   "source": [
    "Xen[:10]"
   ]
  },
  {
   "cell_type": "code",
   "execution_count": 17,
   "metadata": {},
   "outputs": [],
   "source": [
    "Xko =\"\"\"컴퓨터와 인터넷은 우리 시대의 가장 중요한 발명으로 꼽히지만 그것을 누가 만들었는지 아는 사람은 드물다. 컴퓨터와 인터넷은 다락방이나 차고에서 발명가 한 명이 홀로 생각해낸 것이 아니기 때문에, 특정 인물을 잡지 표지에 싣거나 에디슨, 벨, 모르스와 함께 만신전에 모시기도 어렵다. 사실 디지털 시대의 혁신은 대부분 협업으로 이루어졌다. 여기에는 수많은 매력적인 사람들이 관련되어 있는데, 그 가운데 일부는 창의력이 뛰어나고 또 소수는 심지어 천재이기도 하다. 이 책은 이런 선구자, 해커, 발명가, 기업가들의 이야기다. 그들이 누구이며, 그들의 정신이 어떻게 움직였으며, 무엇이 그들을 그렇게 창조적으로 만들었는지 이야기한다. 또 그들이 어떻게 협업했는지, 팀으로 일함으로써 어떻게 ‘더’ 창조적이 될 수 있었는지 이야기한다. 그들의 팀워크 이야기는 중요하다. 그렇게 팀워크를 이루는 기술이 혁신에서 얼마나 중심적인 역할을 하는지 관심을 기울이는 경우가 많지 않기 때문이다. 우리 같은 전기 작가들이 일인 발명가로 그려내거나 신비화하는 사람들을 찬양하는 책은 수도 없이 많다. 나 자신도 그런 책을 몇 권 냈다. 아마존에서 “~을 (를) 발명한 사람 the man who invented ”이라는 구절로 검색을 하면 1,860권이라는 결과가 나온다. 하지만 협업적 창조성의 이야기는 훨씬 적은데, 사실 오늘날의 테크놀로지 혁명이 이루어진 방식을 이해하는 데는 이것이 훨씬 중요하다. 또 더 재미있을 수도 있다. 요즘 혁신에 관한 이야기가 아주 많기 때문에 혁신이라는 말은 현학적 유행 현실로 바꾸었을까? 나는 이 책에서 디지털 시대의 가장 의미 있는 약진 여남은 가지와 그것을 이루어낸 사람들에게 초점을 맞추었다. 어떤 요소들이 그런 창조적 도약을 만들어냈는가? 어떤 기술이 가장 큰 유용성을 입증했는가? 그들은 어떻게 이끌고 협업했는가? 왜 어떤 사람들은 성공하고 다른 사람들은 실패했는가? 나는 이 책에서 또 혁신을 위한 분위기를 제공하는 사회적이고 문화적인 힘들을 탐사한다. 디지털 시대의 탄생의 경우에는 정부의 재정 지출로 육성되고 군 軍 -산 産 -학 學 협업으로 관리되는 연구 생태계라는 분위기가 있었다. 이것과 공동체 조직가, 공동체적 정신을 가진 히피들, DIY 호비스트*, 홈브루** 해커들의 느슨한 동맹이 교차하는데, 이들 대부분은 중앙집권적 권위에 의심을 품고 있었다.\"\"\""
   ]
  },
  {
   "cell_type": "code",
   "execution_count": 18,
   "metadata": {},
   "outputs": [],
   "source": [
    "Xko +=\"\"\"이와 마찬가지로 위대한 개인과 문화적 흐름 가운데 무엇을 강조할 것이냐 하는 것은 오래전부터 논란이 되어온 문제다. 19세기에 토머스 칼라일은 “세계사는 위인들의 전기에 지나지 않는다”고 선언했으며, 허버트 스펜서는 사회적 힘들의 역할을 강조하는 이론으로 대응했다. 학자냐 참여자냐에 따라 이런 균형을 다르게 보기도 한다. “한 사람의 교수로서 나는 역사를 비인격적 힘들이 움직인다고 생각하는 경향이 있었다.” 헨리 키신저는 1970년대 중동에서의 ‘셔틀 외교’ 중 기자들에게 그렇게 말했다. “하지만 실제로 보게 되면 개별 인물들이 만들어내는 변화가 드러난다.” 1 중동 평화 협상도 그렇지만 디지털 시대의 혁신에 이르게 되면 다양한 개인적 힘과 문화적 힘이 모두 자기 역할을 하기 때문에, 나는 이 책에서 그 둘을 함께 엮으려 했다. 인터넷은 원래 협업을 위해 구축되었다. 반면 개인용 컴퓨터, 특히 가정에서 사용할 목적으로 만든 컴퓨터는 개인적 창조성을 위한 도구로 고안되었다. 1970년대 초부터 10여 년 동안 네트워크의 발전과 가정용 컴퓨터의 발전은 서로 분리된 채로 진행되었다. 이 둘은 1980년대 말 모뎀, 온라인 서비스, 웹의 등장과 함께 합쳐지기 시작했다. 증기 기관과 정교한 기계류의 결합이 산업 혁명을 이끌었듯이 컴퓨터와 분산 네트워크의 결합은 디지털 혁명을 이끌어, 모든 사람이 어디에서든 어떤 정보든 만들어내고 퍼뜨리고 접근할 수 있게 해주었다. 과학사가들은 가끔 위대한 변화의 시기라 해도 그것을 혁명이라고 부르는 것을 경계한다. 그들은 진보를 진화적으로 보는 것을 더 좋아한다. “‘과학 혁명’ 같은 것은 없었지만, 이 책은 과학 혁명에 관한 책이다.” 이것은 하버드 교수 스티븐 샤핀의 해당 시기에 관한 책의 짓궂은 서두다. 샤핀이 그렇게 반농담조로 말한 모순을 피해가는 데 사용하는 한 가지 방법은 이 시기의 주요 인물들이 자신이 혁명의 일부라는 “관점을 힘차게 피력했다”는 데 주목하는 것이다. “우리는 근본적 변화가 진행 중이라는 느낌을 받게 되는데, 그런 느낌은 실질적으로 그들에게서 공유하고 있다. 나 또한 새로운 도약이 이루어질 때마다 느꼈던 흥분이 아직도 기억난다. 나의 아버지와 삼촌들은 전기 엔지니어였으며, 나는 이 책에 나오는 많은 인물들과 마찬가지로 납땜을 할 회로기판, 뜯어볼 라디오, 검사할 관, 분류하고 배치할 트랜지스터와 저항 상자들이 널려 있는 지하실 작업장에서 성장했다. 히스키트*와 아마추어 무선 통신기 (호출 부호는 WA5JTP) 를 사랑하던 전자 제품 긱**으로서 나는 진공관이 트랜지스터에 자리를 내주던 때를 기억한다. 대학에서는 천공 카드를 이용하는 프로그래밍을 배웠는데, 일괄 처리의 괴로움이 직접 내 손으로 키보드를 두드려 이루어내는 상호 작용이 주는 환희로 바뀌던 순간을 기억한다. 1980년대에는 모뎀이 온라인 서비스와 게시판이라는 불가사의하고 마법 같은 영역을 우리에게 열어주던 순간 들려오던 치이익하는 잡음에 전율했으며, 1990년대 초에는 《타임》과 타임워너의 디지털부서가 새로운 웹 및 광대역 인터넷 서비스에 나서는 것을 돕기도 했다. 프랑스 혁명이 시작되는 순간 그것을 바라보며 열광하던 사람을 두고 워즈워스가 말했듯이 “그 새벽에 살아 있다는 것이 축복이었다.”\"\"\""
   ]
  },
  {
   "cell_type": "code",
   "execution_count": 19,
   "metadata": {},
   "outputs": [],
   "source": [
    "Xko += \"\"\"시대의 발전에 매혹되어 있었다는 점, 또 혁신가이자 발명가이자 출판업자이자 우편 서비스의 개척자이자 다방면의 정보망 구축자이자 기업가인 벤저민 프랭클린의 전기를 썼다는 점이 그 출발점이 되었다. 그러나 나는 전기를 쓰는 일로부터는 물러나고 싶었다. 전기는 비범한 개인의 역할을 강조하는 경향이 있기 때문이다. 대신 『지혜로운 사람들 The Wise Men 』—미국의 냉전 정책을 규정한 여\n",
    "섯 친구의 창조적 팀워크에 관해 동료와 함께 쓴 책이다—같은 책을 다시 쓰고 싶었다. 처음의 계획은 인터넷을 발명한 팀들에 초점을 맞추자는 것이었다. 하지만 빌 게이츠를 인터뷰하면서 그의 이야기를 듣고 인터넷과 개인용 컴퓨터가 동시에 등장했다는 사실이 더 풍부한 이야깃거리가 될 것이라는 확신을 갖게 되었다. 그러다 2009년 초에는 이 책을 중단하고 스티브 잡스의 전기 작업을 시작하게 되었다. 하지만 그의 이야기 때문에 인터넷과 컴퓨터의 발달이 서로 얽히는 방식에 관한 관심은 더 강해졌으며, 그래서 그 책을 끝내자마자 이 디지털 시대의 혁신 이야기로 돌아오게 되었다. 인터넷의 수많은 프로토콜은 동료 간 협업으로 고안되었으며, 그 결과 등장한 시스템의 유전자에는 협업을 촉진하는 경향이 새겨지게 되었다. 정보를 만들고 전달하는 힘은 각 노드에 완전히 분배되었고, 통제나 위계를 강제하려는 시도는 우회해 갈 수 있었다. 개인이 제어하는 컴퓨터와 연결된 열린 네트워크 시스템은 인쇄기와 마찬가지로 정보 배포의 통제권을 게이트키퍼, 중앙 당국, 대서인이나 서기를 고용하는 기관으로부터 빼앗는 경향이 있다고 말해도, 이를 두고 테크놀로지에 의도와 인격을 부여하는 목적론적 오류에 빠진 부당한 이야기라고 비판하는 사람은 없을 것이다. 결국 보통 사람들이 콘텐츠를 만들고 공유하는 것이 더 쉬워진 것이다. 디지털 시대를 창조한 협업은 단지 동배끼리만이 아니라 세대 사이에도 이루어졌다. 아이디어는 한 혁신가 무리에서 다음 혁신가 무리에게로 전달되었다. 조사 과정에서 나타난 또 하나의 주제는 사용자들이 되풀이하여 디지털 혁신을 가져다 소통과 사회적 네트워크 도구를 만드는 데 이용했다는 것이다. 나는 또 인공 지능—스스로 생각하는 기계—의 탐구가 사람과 기계 사이에서 동반 관계나 공생을 이루는 방법을 찾아내는 것보다 성과가 없다는 것이 일관되게 입증되어왔다는 데 관심을 갖게 되었다. 말을 바꾸면 디지털 시대의 특징인 협업적 창조성에는 연결시킬 수 있는 사람들에게서 나왔다는 데 감명을 받았다. 그들은 아름다움이 중요하다고 믿었다. “나는 어린 시절 늘 나 자신이 인문학적인 인간이라고 생각했지만, 그러면서도 전자공학을 좋아했다.” 잡스는 그의 전기를 쓰기 시작했을 때 나에게 말했다. “그러다가 나의 영웅으로 꼽을 수 있는 폴라로이드의 에드윈 랜드가 인문학과 과학의 교차점에 설 수 있는 사람들의 중요성에 관해 이야기한 것을 읽으면서 그것이 바로 내가 하고 싶은 것이라고 생각했다.” 이런 인문학-테크놀로지의 교차점에서 편안할 수 있는 사람들이 이 이야기의 핵심에 자리 잡고 있는 인간-기계 공생에 기여한 것이다. 디지털 시대의 많은 면과 마찬가지로 예술과 과학이 연결되는 지점에 혁신이 자리 잡고 있다는 생각은 새롭지 않다. 레오나르도 다빈치는 인문학과 과학이 상호 작용할 때 활짝 피어나는 창조성의 본보기다. 아인슈타인은 일반 상대성 이론을 연구하던 도중 난관에 부딪히면 바이올린을 꺼내 그가 천체들의 조화라고 부르던 것과 다시 연결될 수 있을 때까지 모차르트를 연주했다. 컴퓨터 쪽에서 보자면 예술과 과학의 결합을 체현한, 잘 알려지지 않은 또 한 사람의 역사적 인물이 있다. 그녀는 유명한 아버지와 마찬가지로 시의 로맨스를 이해했다. 그러나 아버지와는 달리 수학과 기계에서도 로맨스를 보았다. 우리의 이야기는 여기에서 시작한다.\"\"\""
   ]
  },
  {
   "cell_type": "code",
   "execution_count": 20,
   "metadata": {},
   "outputs": [],
   "source": [
    "Xko = Xko.split('. ')"
   ]
  },
  {
   "cell_type": "code",
   "execution_count": 21,
   "metadata": {},
   "outputs": [
    {
     "data": {
      "text/plain": [
       "64"
      ]
     },
     "execution_count": 21,
     "metadata": {},
     "output_type": "execute_result"
    }
   ],
   "source": [
    "len(Xko)"
   ]
  },
  {
   "cell_type": "code",
   "execution_count": 27,
   "metadata": {},
   "outputs": [
    {
     "data": {
      "text/plain": [
       "'동헤물과'"
      ]
     },
     "execution_count": 27,
     "metadata": {},
     "output_type": "execute_result"
    }
   ],
   "source": [
    "aa = '동헤'\n",
    "aa += '물과'\n",
    "aa"
   ]
  },
  {
   "cell_type": "code",
   "execution_count": 39,
   "metadata": {},
   "outputs": [
    {
     "data": {
      "text/plain": [
       "61"
      ]
     },
     "execution_count": 39,
     "metadata": {},
     "output_type": "execute_result"
    }
   ],
   "source": [
    "Xko = XXko\n",
    "XXko = []\n",
    "for i,s in enumerate(Xko):\n",
    "    if i==107:\n",
    "        XXko[-1] +=s\n",
    "    elif i in [12]:\n",
    "        continue\n",
    "    else:\n",
    "        XXko.append(s)\n",
    "len(XXko)"
   ]
  },
  {
   "cell_type": "code",
   "execution_count": 40,
   "metadata": {},
   "outputs": [
    {
     "data": {
      "text/plain": [
       "64"
      ]
     },
     "execution_count": 40,
     "metadata": {},
     "output_type": "execute_result"
    }
   ],
   "source": [
    "#Xen = XXen\n",
    "XXen = []\n",
    "for i,s in enumerate(Xen):\n",
    "    if i==107:\n",
    "        XXen[-1] +=s\n",
    "    elif i in [12,13,14]:\n",
    "        continue\n",
    "    else:\n",
    "        XXen.append(s)\n",
    "len(XXen)"
   ]
  },
  {
   "cell_type": "code",
   "execution_count": 1,
   "metadata": {},
   "outputs": [
    {
     "ename": "NameError",
     "evalue": "name 'XXen' is not defined",
     "output_type": "error",
     "traceback": [
      "\u001b[0;31m---------------------------------------------------------------------------\u001b[0m",
      "\u001b[0;31mNameError\u001b[0m                                 Traceback (most recent call last)",
      "\u001b[0;32m<ipython-input-1-8e55816a7ee7>\u001b[0m in \u001b[0;36m<module>\u001b[0;34m\u001b[0m\n\u001b[0;32m----> 1\u001b[0;31m \u001b[0mXXen\u001b[0m \u001b[0;34m=\u001b[0m \u001b[0;34m[\u001b[0m\u001b[0ms\u001b[0m\u001b[0;34m+\u001b[0m\u001b[0;34m'.'\u001b[0m \u001b[0;32mfor\u001b[0m \u001b[0ms\u001b[0m \u001b[0;32min\u001b[0m \u001b[0mXXen\u001b[0m\u001b[0;34m]\u001b[0m\u001b[0;34m\u001b[0m\u001b[0;34m\u001b[0m\u001b[0m\n\u001b[0m\u001b[1;32m      2\u001b[0m \u001b[0;32mwith\u001b[0m \u001b[0mopen\u001b[0m\u001b[0;34m(\u001b[0m\u001b[0;34m'Xen'\u001b[0m\u001b[0;34m,\u001b[0m\u001b[0;34m'w'\u001b[0m\u001b[0;34m)\u001b[0m \u001b[0;32mas\u001b[0m \u001b[0mf\u001b[0m\u001b[0;34m:\u001b[0m\u001b[0;34m\u001b[0m\u001b[0;34m\u001b[0m\u001b[0m\n\u001b[1;32m      3\u001b[0m     \u001b[0mf\u001b[0m\u001b[0;34m.\u001b[0m\u001b[0mwrite\u001b[0m\u001b[0;34m(\u001b[0m\u001b[0;34m'\\n'\u001b[0m\u001b[0;34m.\u001b[0m\u001b[0mjoin\u001b[0m\u001b[0;34m(\u001b[0m\u001b[0mXXen\u001b[0m\u001b[0;34m)\u001b[0m\u001b[0;34m)\u001b[0m\u001b[0;34m\u001b[0m\u001b[0;34m\u001b[0m\u001b[0m\n\u001b[1;32m      4\u001b[0m \u001b[0;32mwith\u001b[0m \u001b[0mopen\u001b[0m\u001b[0;34m(\u001b[0m\u001b[0;34m'Xko'\u001b[0m\u001b[0;34m,\u001b[0m\u001b[0;34m'w'\u001b[0m\u001b[0;34m)\u001b[0m \u001b[0;32mas\u001b[0m \u001b[0mf\u001b[0m\u001b[0;34m:\u001b[0m\u001b[0;34m\u001b[0m\u001b[0;34m\u001b[0m\u001b[0m\n\u001b[1;32m      5\u001b[0m     \u001b[0mf\u001b[0m\u001b[0;34m.\u001b[0m\u001b[0mwrite\u001b[0m\u001b[0;34m(\u001b[0m\u001b[0;34m'\\n'\u001b[0m\u001b[0;34m.\u001b[0m\u001b[0mjoin\u001b[0m\u001b[0;34m(\u001b[0m\u001b[0mXXko\u001b[0m\u001b[0;34m)\u001b[0m\u001b[0;34m)\u001b[0m\u001b[0;34m\u001b[0m\u001b[0;34m\u001b[0m\u001b[0m\n",
      "\u001b[0;31mNameError\u001b[0m: name 'XXen' is not defined"
     ]
    }
   ],
   "source": [
    "with open('Xen','w') as f:\n",
    "    f.write('\\n'.join(XXen))\n",
    "with open('Xko','w') as f:\n",
    "    f.write('\\n'.join(XXko))"
   ]
  },
  {
   "cell_type": "code",
   "execution_count": 42,
   "metadata": {},
   "outputs": [
    {
     "name": "stdout",
     "output_type": "stream",
     "text": [
      "0\n",
      "The computer and the Internet are among the most important inventions of our era, but few people know who created them\n",
      "컴퓨터와 인터넷은 우리 시대의 가장 중요한 발명으로 꼽히지만 그것을 누가 만들었는지 아는 사람은 드물다.  \n",
      "\n",
      "1\n",
      "They were not conjured up in a garret or garage by solo inventors suitable to be singled out on magazine covers or put into a pantheon with Edison, Bell, and Morse\n",
      "컴퓨터와 인터넷은 다락방이나 차고에서 발명가 한 명이 홀로 생각해낸 것이 아니기 때문에, 특정 인물을 잡지 표지에 싣거나 에디슨, 벨, 모르스와 함께 만신전에 모시기도 어렵다.  \n",
      "\n",
      "2\n",
      "Instead, most of the innovations of the digital age were done collaboratively\n",
      "사실 디지털 시대의 혁신은 대부분 협업으로 이루어졌다.  \n",
      "\n",
      "3\n",
      "There were a lot of fascinating people involved, some ingenious and a few even geniuses\n",
      "여기에는 수많은 매력적인 사람들이 관련되어 있는데, 그 가운데 일부는 창의력이 뛰어나고 또 소수는 심지어 천재이기도 하다.  \n",
      "\n",
      "4\n",
      "This is the story of these pioneers, hackers, inventors, and entrepreneurs—who they were, how their minds worked, and what made them so creative\n",
      "이 책은 이런 선구자, 해커, 발명가, 기업가들의 이야기다. 그들이 누구이며, 그들의 정신이 어떻게 움직였으며, 무엇이 그들을 그렇게 창조적으로 만들었는지 이야기한다.  \n",
      "\n",
      "5\n",
      "It’s also a narrative of how they collaborated and why their ability to work as teams made them even more creative\n",
      "또 그들이 어떻게 협업했는지, 팀으로 일함으로써 어떻게 ‘더’ 창조적이 될 수 있었는지 이야기한다.  \n",
      "\n",
      "6\n",
      "The tale of their teamwork is important because we don’t often focus on how central that skill is to innovation\n",
      "그들의 팀워크 이야기는 중요하다. 그렇게 팀워크를 이루는 기술이 혁신에서 얼마나 중심적인 역할을 하는지 관심을 기울이는 경우가 많지 않기 때문이다.  \n",
      "\n",
      "7\n",
      "There are thousands of books celebrating people we biographers portray, or mythologize, as lone inventors\n",
      "우리 같은 전기 작가들이 일인 발명가로 그려내거나 신비화하는 사람들을 찬양하는 책은 수도 없이 많다.  \n",
      "\n",
      "8\n",
      "I’ve produced a few myself\n",
      "나 자신도 그런 책을 몇 권 냈다.  \n",
      "\n",
      "9\n",
      "Search the phrase “the man who invented” on Amazon and you get 1,860 book results\n",
      "아마존에서 “~을 (를) 발명한 사람 the man who invented ”이라는 구절로 검색을 하면 1,860권이라는 결과가 나온다.  \n",
      "\n",
      "10\n",
      "But we have far fewer tales of collaborative creativity, which is actually more important in understanding how today’s technology revolution was fashioned\n",
      "하지만 협업적 창조성의 이야기는 훨씬 적은데, 사실 오늘날의 테크놀로지 혁명이 이루어진 방식을 이해하는 데는 이것이 훨씬 중요하다.  \n",
      "\n",
      "11\n",
      "It can also be more interesting\n",
      "또 더 재미있을 수도 있다.  \n",
      "\n",
      "12\n",
      "What ingredients produced their creative leaps? What skills proved most useful? How did they lead and collaborate? Why did some succeed and others fail? I also explore the social and cultural forces that provide the atmosphere for innovation\n",
      "어떤 요소들이 그런 창조적 도약을 만들어냈는가? 어떤 기술이 가장 큰 유용성을 입증했는가? 그들은 어떻게 이끌고 협업했는가? 왜 어떤 사람들은 성공하고 다른 사람들은 실패했는가? 나는 이 책에서 또 혁신을 위한 분위기를 제공하는 사회적이고 문화적인 힘들을 탐사한다.  \n",
      "\n",
      "13\n",
      "For the birth of the digital age, this included a research ecosystem that was nurtured by government spending and managed by a military-industrial-academic collaboration\n",
      "디지털 시대의 탄생의 경우에는 정부의 재정 지출로 육성되고 군 軍 -산 産 -학 學 협업으로 관리되는 연구 생태계라는 분위기가 있었다.  \n",
      "\n",
      "14\n",
      "Intersecting with that was a loose alliance of community organizers, communal-minded hippies, do-it-yourself hobbyists, and homebrew hackers, most of whom were suspicious of centralized authority\n",
      "이것과 공동체 조직가, 공동체적 정신을 가진 히피들, DIY 호비스트*, 홈브루** 해커들의 느슨한 동맹이 교차하는데, 이들 대부분은 중앙집권적 권위에 의심을 품고 있었다.이와 마찬가지로 위대한 개인과 문화적 흐름 가운데 무엇을 강조할 것이냐 하는 것은 오래전부터 논란이 되어온 문제다.  \n",
      "\n",
      "15\n",
      "Histories can be written with a different emphasis on any of these factors\n",
      "19세기에 토머스 칼라일은 “세계사는 위인들의 전기에 지나지 않는다”고 선언했으며, 허버트 스펜서는 사회적 힘들의 역할을 강조하는 이론으로 대응했다.  \n",
      "\n",
      "16\n",
      "An example is the invention of the Harvard/IBM Mark I, the first big electromechanical computer\n",
      "학자냐 참여자냐에 따라 이런 균형을 다르게 보기도 한다.  \n",
      "\n",
      "17\n",
      "One of its programmers, Grace Hopper, wrote a history that focused on its primary creator, Howard Aiken\n",
      "“한 사람의 교수로서 나는 역사를 비인격적 힘들이 움직인다고 생각하는 경향이 있었다.” 헨리 키신저는 1970년대 중동에서의 ‘셔틀 외교’ 중 기자들에게 그렇게 말했다.  \n",
      "\n",
      "18\n",
      "IBM countered with a history that featured its teams of faceless engineers who contributed the incremental innovations, from counters to card feeders, that went into the machine\n",
      "“하지만 실제로 보게 되면 개별 인물들이 만들어내는 변화가 드러난다.” 1 중동 평화 협상도 그렇지만 디지털 시대의 혁신에 이르게 되면 다양한 개인적 힘과 문화적 힘이 모두 자기 역할을 하기 때문에, 나는 이 책에서 그 둘을 함께 엮으려 했다.  \n",
      "\n",
      "19\n",
      "Likewise, what emphasis should be put on great individuals versus on cultural currents has long been a matter of dispute; in the mid-nineteenth century, Thomas Carlyle declared that “the history of the world is but the biography of great men,” and Herbert Spencer responded with a theory that emphasized the role of societal forces\n",
      "인터넷은 원래 협업을 위해 구축되었다.  \n",
      "\n",
      "20\n",
      "Academics and participants often view this balance differently\n",
      "반면 개인용 컴퓨터, 특히 가정에서 사용할 목적으로 만든 컴퓨터는 개인적 창조성을 위한 도구로 고안되었다.  \n",
      "\n",
      "21\n",
      "“As a professor, I tended to think of history as run by impersonal forces,” Henry Kissinger told reporters during one of his Middle East shuttle missions in the 1970s\n",
      "1970년대 초부터 10여 년 동안 네트워크의 발전과 가정용 컴퓨터의 발전은 서로 분리된 채로 진행되었다.  \n",
      "\n",
      "22\n",
      "“But when you see it in practice, you see the difference personalities make.”1 When it comes to digital-age innovation, as with Middle East peacemaking, a variety of personal and cultural forces all come into play, and in this book I sought to weave them together\n",
      "이 둘은 1980년대 말 모뎀, 온라인 서비스, 웹의 등장과 함께 합쳐지기 시작했다.  \n",
      "\n",
      "23\n",
      "The Internet was originally built to facilitate collaboration\n",
      "증기 기관과 정교한 기계류의 결합이 산업 혁명을 이끌었듯이 컴퓨터와 분산 네트워크의 결합은 디지털 혁명을 이끌어, 모든 사람이 어디에서든 어떤 정보든 만들어내고 퍼뜨리고 접근할 수 있게 해주었다.  \n",
      "\n",
      "24\n",
      "By contrast, personal computers, especially those meant to be used at home, were devised as tools for individual creativity\n",
      "과학사가들은 가끔 위대한 변화의 시기라 해도 그것을 혁명이라고 부르는 것을 경계한다.  \n",
      "\n",
      "25\n",
      "For more than a decade, beginning in the early 1970s, the development of networks and that of home computers proceeded separately from one another\n",
      "그들은 진보를 진화적으로 보는 것을 더 좋아한다.  \n",
      "\n",
      "26\n",
      "They finally began coming together in the late 1980s with the advent of modems, online services, and the Web\n",
      "“‘과학 혁명’ 같은 것은 없었지만, 이 책은 과학 혁명에 관한 책이다.” 이것은 하버드 교수 스티븐 샤핀의 해당 시기에 관한 책의 짓궂은 서두다.  \n",
      "\n",
      "27\n",
      "Just as combining the steam engine with ingenious machinery drove the Industrial Revolution, the combination of the computer and distributed networks led to a digital revolution that allowed anyone to create, disseminate, and access any information anywhere\n",
      "샤핀이 그렇게 반농담조로 말한 모순을 피해가는 데 사용하는 한 가지 방법은 이 시기의 주요 인물들이 자신이 혁명의 일부라는 “관점을 힘차게 피력했다”는 데 주목하는 것이다.  \n",
      "\n",
      "28\n",
      "Historians of science are sometimes wary about calling periods of great change revolutions, because they prefer to view progress as evolutionary\n",
      "“우리는 근본적 변화가 진행 중이라는 느낌을 받게 되는데, 그런 느낌은 실질적으로 그들에게서 공유하고 있다.  \n",
      "\n",
      "29\n",
      "“There was no such thing as the Scientific Revolution, and this is a book about it,” is the wry opening sentence of the Harvard professor Steven Shapin’s book on that period\n",
      "나 또한 새로운 도약이 이루어질 때마다 느꼈던 흥분이 아직도 기억난다.  \n",
      "\n",
      "30\n",
      "One method that Shapin used to escape his half-joking contradiction is to note how the key players of the period “vigorously expressed the view” that they were part of a revolution\n",
      "나의 아버지와 삼촌들은 전기 엔지니어였으며, 나는 이 책에 나오는 많은 인물들과 마찬가지로 납땜을 할 회로기판, 뜯어볼 라디오, 검사할 관, 분류하고 배치할 트랜지스터와 저항 상자들이 널려 있는 지하실 작업장에서 성장했다.  \n",
      "\n",
      "31\n",
      "“Our sense of radical change afoot comes substantially from them.”2 Likewise, most of us today share a sense that the digital advances of the past half century are transforming, perhaps even revolutionizing the way we live\n",
      "히스키트*와 아마추어 무선 통신기 (호출 부호는 WA5JTP) 를 사랑하던 전자 제품 긱**으로서 나는 진공관이 트랜지스터에 자리를 내주던 때를 기억한다.  \n",
      "\n",
      "32\n",
      "I can recall the excitement that each new breakthrough engendered\n",
      "대학에서는 천공 카드를 이용하는 프로그래밍을 배웠는데, 일괄 처리의 괴로움이 직접 내 손으로 키보드를 두드려 이루어내는 상호 작용이 주는 환희로 바뀌던 순간을 기억한다.  \n",
      "\n",
      "33\n",
      "My father and uncles were electrical engineers, and like many of the characters in this book I grew up with a basement workshop that had circuit boards to be soldered, radios to be opened, tubes to be tested, and boxes of transistors and resistors to be sorted and deployed\n",
      "1980년대에는 모뎀이 온라인 서비스와 게시판이라는 불가사의하고 마법 같은 영역을 우리에게 열어주던 순간 들려오던 치이익하는 잡음에 전율했으며, 1990년대 초에는 《타임》과 타임워너의 디지털부서가 새로운 웹 및 광대역 인터넷 서비스에 나서는 것을 돕기도 했다.  \n",
      "\n",
      "34\n",
      "As an electronics geek who loved Heathkits and ham radios (WA5JTP), I can remember when vacuum tubes gave way to transistors\n",
      "프랑스 혁명이 시작되는 순간 그것을 바라보며 열광하던 사람을 두고 워즈워스가 말했듯이 “그 새벽에 살아 있다는 것이 축복이었다.”시대의 발전에 매혹되어 있었다는 점, 또 혁신가이자 발명가이자 출판업자이자 우편 서비스의 개척자이자 다방면의 정보망 구축자이자 기업가인 벤저민 프랭클린의 전기를 썼다는 점이 그 출발점이 되었다.  \n",
      "\n",
      "35\n",
      "At college I learned programming using punch cards and recall when the agony of batch processing was replaced by the ecstasy of hands-on interaction\n",
      "그러나 나는 전기를 쓰는 일로부터는 물러나고 싶었다.  \n",
      "\n",
      "36\n",
      "In the 1980s I thrilled to the static and screech that modems made when they opened for you the weirdly magical realm of online services and bulletin boards, and in the early 1990s I helped to run a digital division at Time and Time Warner that launched new Web and broadband Internet services\n",
      "전기는 비범한 개인의 역할을 강조하는 경향이 있기 때문이다.  \n",
      "\n",
      "37\n",
      "As Wordsworth said of the enthusiasts who were present at the beginning of the French Revolution, “Bliss was it in that dawn to be alive.” I began work on this book more than a decade ago\n",
      "대신 『지혜로운 사람들 The Wise Men 』—미국의 냉전 정책을 규정한 여\n",
      "섯 친구의 창조적 팀워크에 관해 동료와 함께 쓴 책이다—같은 책을 다시 쓰고 싶었다.  \n",
      "\n",
      "38\n",
      "It grew out of my fascination with the digital-age advances I had witnessed and also from my biography of Benjamin Franklin, who was an innovator, inventor, publisher, postal service pioneer, and all-around information networker and entrepreneur\n",
      "처음의 계획은 인터넷을 발명한 팀들에 초점을 맞추자는 것이었다.  \n",
      "\n",
      "39\n",
      "I wanted to step away from doing biographies, which tend to emphasize the role of singular individuals, and once again do a book like The Wise Men, which I had coauthored with a colleague about the creative teamwork of six friends who shaped America’s cold war policies\n",
      "하지만 빌 게이츠를 인터뷰하면서 그의 이야기를 듣고 인터넷과 개인용 컴퓨터가 동시에 등장했다는 사실이 더 풍부한 이야깃거리가 될 것이라는 확신을 갖게 되었다.  \n",
      "\n",
      "40\n",
      "My initial plan was to focus on the teams that invented the Internet\n",
      "그러다 2009년 초에는 이 책을 중단하고 스티브 잡스의 전기 작업을 시작하게 되었다.  \n",
      "\n",
      "41\n",
      "But when I interviewed Bill Gates, he convinced me that the simultaneous emergence of the Internet and the personal computer made for a richer tale\n",
      "하지만 그의 이야기 때문에 인터넷과 컴퓨터의 발달이 서로 얽히는 방식에 관한 관심은 더 강해졌으며, 그래서 그 책을 끝내자마자 이 디지털 시대의 혁신 이야기로 돌아오게 되었다.  \n",
      "\n",
      "42\n",
      "I put this book on hold early in 2009, when I began working on a biography of Steve Jobs\n",
      "인터넷의 수많은 프로토콜은 동료 간 협업으로 고안되었으며, 그 결과 등장한 시스템의 유전자에는 협업을 촉진하는 경향이 새겨지게 되었다.  \n",
      "\n",
      "43\n",
      "But his story reinforced my interest in how the development of the Internet and computers intertwined, so as soon as I finished that book, I went back to work on this tale of digital-age innovators\n",
      "정보를 만들고 전달하는 힘은 각 노드에 완전히 분배되었고, 통제나 위계를 강제하려는 시도는 우회해 갈 수 있었다.  \n",
      "\n",
      "44\n",
      "The protocols of the Internet were devised by peer collaboration, and the resulting system seemed to have embedded in its genetic code a propensity to facilitate such collaboration\n",
      "개인이 제어하는 컴퓨터와 연결된 열린 네트워크 시스템은 인쇄기와 마찬가지로 정보 배포의 통제권을 게이트키퍼, 중앙 당국, 대서인이나 서기를 고용하는 기관으로부터 빼앗는 경향이 있다고 말해도, 이를 두고 테크놀로지에 의도와 인격을 부여하는 목적론적 오류에 빠진 부당한 이야기라고 비판하는 사람은 없을 것이다.  \n",
      "\n",
      "45\n",
      "The power to create and transmit information was fully distributed to each of the nodes, and any attempt to impose controls or a hierarchy could be routed around\n",
      "결국 보통 사람들이 콘텐츠를 만들고 공유하는 것이 더 쉬워진 것이다.  \n",
      "\n",
      "46\n",
      "Without falling into the teleological fallacy of ascribing intentions or a personality to technology, it’s fair to say that a system of open networks connected to individually controlled computers tended, as the printing press did, to wrest control over the distribution of information from gatekeepers, central authorities, and institutions that employed scriveners and scribes\n",
      "디지털 시대를 창조한 협업은 단지 동배끼리만이 아니라 세대 사이에도 이루어졌다.  \n",
      "\n",
      "47\n",
      "It became easier for ordinary folks to create and share content\n",
      "아이디어는 한 혁신가 무리에서 다음 혁신가 무리에게로 전달되었다.  \n",
      "\n",
      "48\n",
      "The collaboration that created the digital age was not just among peers but also between generations\n",
      "조사 과정에서 나타난 또 하나의 주제는 사용자들이 되풀이하여 디지털 혁신을 가져다 소통과 사회적 네트워크 도구를 만드는 데 이용했다는 것이다.  \n",
      "\n",
      "49\n",
      "Ideas were handed off from one cohort of innovators to the next\n",
      "나는 또 인공 지능—스스로 생각하는 기계—의 탐구가 사람과 기계 사이에서 동반 관계나 공생을 이루는 방법을 찾아내는 것보다 성과가 없다는 것이 일관되게 입증되어왔다는 데 관심을 갖게 되었다.  \n",
      "\n",
      "50\n",
      "Another theme that emerged from my research was that users repeatedly commandeered digital innovations to create communications and social networking tools\n",
      "말을 바꾸면 디지털 시대의 특징인 협업적 창조성에는 연결시킬 수 있는 사람들에게서 나왔다는 데 감명을 받았다.  \n",
      "\n",
      "51\n",
      "I also became interested in how the quest for artificial intelligence—machines that think on their own—has consistently proved less fruitful than creating ways to forge a partnership or symbiosis between people and machines\n",
      "그들은 아름다움이 중요하다고 믿었다.  \n",
      "\n",
      "52\n",
      "In other words, the collaborative creativity that marked the digital age included collaboration between humans and machines\n",
      "“나는 어린 시절 늘 나 자신이 인문학적인 인간이라고 생각했지만, 그러면서도 전자공학을 좋아했다.” 잡스는 그의 전기를 쓰기 시작했을 때 나에게 말했다.  \n",
      "\n",
      "53\n",
      "Finally, I was struck by how the truest creativity of the digital age came from those who were able to connect the arts and sciences\n",
      "“그러다가 나의 영웅으로 꼽을 수 있는 폴라로이드의 에드윈 랜드가 인문학과 과학의 교차점에 설 수 있는 사람들의 중요성에 관해 이야기한 것을 읽으면서 그것이 바로 내가 하고 싶은 것이라고 생각했다.” 이런 인문학-테크놀로지의 교차점에서 편안할 수 있는 사람들이 이 이야기의 핵심에 자리 잡고 있는 인간-기계 공생에 기여한 것이다.  \n",
      "\n",
      "54\n",
      "They believed that beauty mattered\n",
      "디지털 시대의 많은 면과 마찬가지로 예술과 과학이 연결되는 지점에 혁신이 자리 잡고 있다는 생각은 새롭지 않다.  \n",
      "\n",
      "55\n",
      "“I always thought of myself as a humanities person as a kid, but I liked electronics,” Jobs told me when I embarked on his biography\n",
      "레오나르도 다빈치는 인문학과 과학이 상호 작용할 때 활짝 피어나는 창조성의 본보기다.  \n",
      "\n",
      "56\n",
      "“Then I read something that one of my heroes, Edwin Land of Polaroid, said about the importance of people who could stand at the intersection of humanities and sciences, and I decided that’s what I wanted to do.” The people who were comfortable at this humanities-technology intersection helped to create the human-machine symbiosis that is at the core of this story\n",
      "아인슈타인은 일반 상대성 이론을 연구하던 도중 난관에 부딪히면 바이올린을 꺼내 그가 천체들의 조화라고 부르던 것과 다시 연결될 수 있을 때까지 모차르트를 연주했다.  \n",
      "\n",
      "57\n",
      "Like many aspects of the digital age, this idea that innovation resides where art and science connect is not new\n",
      "컴퓨터 쪽에서 보자면 예술과 과학의 결합을 체현한, 잘 알려지지 않은 또 한 사람의 역사적 인물이 있다.  \n",
      "\n",
      "58\n",
      "Leonardo da Vinci was the exemplar of the creativity that flourishes when the humanities and sciences interact\n",
      "그녀는 유명한 아버지와 마찬가지로 시의 로맨스를 이해했다.  \n",
      "\n",
      "59\n",
      "When Einstein was stymied while working out General Relativity, he would pull out his violin and play Mozart until he could reconnect to what he called the harmony of the spheres\n",
      "그러나 아버지와는 달리 수학과 기계에서도 로맨스를 보았다.  \n",
      "\n",
      "60\n",
      "When it comes to computers, there is one other historical figure, not as well known, who embodied the combination of the arts and sciences\n",
      "우리의 이야기는 여기에서 시작한다..  \n",
      "\n"
     ]
    }
   ],
   "source": [
    "for i in range(len(XXko)):\n",
    "    print(i)\n",
    "    print(XXen[i])\n",
    "    print(XXko[i],'\\n')"
   ]
  },
  {
   "cell_type": "code",
   "execution_count": null,
   "metadata": {},
   "outputs": [],
   "source": []
  }
 ],
 "metadata": {
  "kernelspec": {
   "display_name": "Python 3",
   "language": "python",
   "name": "python3"
  },
  "language_info": {
   "codemirror_mode": {
    "name": "ipython",
    "version": 3
   },
   "file_extension": ".py",
   "mimetype": "text/x-python",
   "name": "python",
   "nbconvert_exporter": "python",
   "pygments_lexer": "ipython3",
   "version": "3.7.4"
  }
 },
 "nbformat": 4,
 "nbformat_minor": 2
}
