{
 "cells": [
  {
   "cell_type": "code",
   "execution_count": null,
   "metadata": {},
   "outputs": [],
   "source": []
  },
  {
   "cell_type": "code",
   "execution_count": 1,
   "metadata": {},
   "outputs": [
    {
     "data": {
      "application/vnd.jupyter.widget-view+json": {
       "model_id": "8e49e974275f4304a786dbc003e314da",
       "version_major": 2,
       "version_minor": 0
      },
      "text/plain": [
       "HBox(children=(FloatProgress(value=0.0, max=1.0), HTML(value='')))"
      ]
     },
     "metadata": {},
     "output_type": "display_data"
    },
    {
     "name": "stdout",
     "output_type": "stream",
     "text": [
      "\n"
     ]
    }
   ],
   "source": [
    "import pandas as pd\n",
    "import re\n",
    "from tqdm.notebook import tqdm\n",
    "from counter_utils import json_read, json_save\n",
    "from xutils_for_Eng import preproc_en,save_en_sents\n",
    "\n",
    "#new_bpe_vocabs = json_read('./generated_Data11/bpe_0408_en/vocabs50000.json')\n",
    "#vocs = {k:v for k,v in new_bpe_vocabs.items() if v>4}\n",
    "\"\"\"\n",
    "_, after_bpe = bpe_voc_in_normal(new_bpe_vocabs)\n",
    "XX = copy.deepcopy(X)\n",
    "XX.update(after_bpe)\n",
    "\n",
    "s_X = sorted(XX.items(), key=lambda x:x[1], reverse=True)\n",
    "s_X = [(k,v) for (k,v) in s_X if v>8]\n",
    "s_XX = {k:v for (k,v) in s_X}\n",
    "\n",
    "vocs = {}\n",
    "for k,v in s_XX.items():\n",
    "    if k.lower() in vocs.keys():\n",
    "        vocs[k.lower()] += v\n",
    "    else:\n",
    "        vocs[k.lower()] = v\n",
    "\"\"\"\n",
    "#print(len(vocs))\n",
    "\n",
    "path = \"Data/\"\n",
    "#suffx.pop('s',1)\n",
    "vocs = json_read(path+'en_vocabs_0409.json')\n",
    "#vocs['U.S.'] = vocs['U.S']\n",
    "\n",
    "\n",
    "#with open('./../train_Data/train_en01','r') as f:\n",
    "with open('../../train_Data/Eng_in_Preproc/train_en_short02','r') as f:\n",
    "    X = f.read().split('\\n')\n",
    "\n",
    "n_step = 10000\n",
    "n_iter = len(X) // n_step +1\n",
    "\n",
    "for i in tqdm(range(n_iter)):    \n",
    "    Xsub = preproc_en(X[i*n_step:(i+1)*n_step],vocs)\n",
    "    #X = to_normal_sents4(X, vocabs, josas, keywords, verbs, comb_check, key_vocs,key_vars, etc)\n",
    "    w_opt = 'w' if i==0 else 'a'\n",
    "    _ = save_en_sents(Xsub, '../../train_Data/Eng_in_Preproc/pre_processed_short02.en',w_opt)\n"
   ]
  },
  {
   "cell_type": "code",
   "execution_count": null,
   "metadata": {},
   "outputs": [],
   "source": []
  },
  {
   "cell_type": "code",
   "execution_count": 6,
   "metadata": {},
   "outputs": [
    {
     "name": "stdout",
     "output_type": "stream",
     "text": [
      "Writing xutils_for_Eng.py\n"
     ]
    }
   ],
   "source": [
    "%%writefile xutils_for_Eng.py\n",
    "def w_recursive(w,X,re_class='mid', iter_first=False):\n",
    "    \n",
    "    if w in X.keys():\n",
    "        return [w]  \n",
    "    \n",
    "    #if w.lower() in X.keys():\n",
    "    #    return [w.lower()]  \n",
    "    \n",
    "    if w == '':\n",
    "        return ['']\n",
    "\n",
    "    \n",
    "    r1 = 'first' if (re_class=='first' or iter_first) else 'mid'\n",
    "    r2 = 'last' if (re_class=='last' or iter_first) else 'mid' \n",
    "    \n",
    "    for l in reversed(range(len(w))):\n",
    "        for i in range(len(w)-l):\n",
    "            if w[i:i+l+1] in X.keys():    # or w[i:i+l+1].lower() in X.keys():\n",
    "                char_first = [''] if i == 0 else w_recursive(w[:i],X,re_class=r1)\n",
    "                char_last = [''] if i+l+1 == len(w) else w_recursive(w[i+l+1:],X,re_class=r1)\n",
    "                char_mid = w[i:i+l+1]     # if w[i:i+l+1] in X.keys() else w[i:i+l+1].lower()\n",
    "                \n",
    "                return char_first+[char_mid]+char_last\n",
    "    \n",
    "    return ['<unk>']\n",
    "\n",
    "    \n",
    "def preproc_en(X_sents,vocs):\n",
    "    \n",
    "    p = re.compile('(?P<to_fix>[^A-Za-z0-9\\'\\-\\.])')\n",
    "    q1 = re.compile(\"\\.\\s*$\")\n",
    "    q2 = re.compile(\"\\s+\\'\")\n",
    "    q3 = re.compile(\"\\'\\s+\")\n",
    "    q4 = re.compile(\"\\.\\s*\\'\")\n",
    "    q5 = re.compile('\\.\\s*\\\"')\n",
    "    q6 = re.compile('\\s+')\n",
    "    \n",
    "    u1 = re.compile('(?P<to_add1>\\s[a-z]{2,})\\.\\s+(?P<to_add3>[A-Z][a-zA-Z]*)')\n",
    "    u2 = re.compile('(?P<to_add2>\\s[A-Z][a-z]{4,})\\.\\s+(?P<to_add3>[A-Z][a-zA-Z]*)')\n",
    "\n",
    "    z1 = re.compile('[^A-Za-z0-9]')\n",
    "    z2 = re.compile('\\s+')\n",
    "    \n",
    "    X_snts = []\n",
    "    for s in X_sents: \n",
    "        sent = []\n",
    "        for c in s:\n",
    "            if ord(c) == 8220 or ord(c) == 8221:\n",
    "                sent.append(chr(34))\n",
    "            elif ord(c) == 8216 or ord(c) == 8217:\n",
    "                sent.append(chr(39))\n",
    "            else:\n",
    "                sent.append(c)\n",
    "        X_snts.append(''.join(sent))\n",
    "            \n",
    "    \n",
    "    X_sents = [q6.sub(' ',u1.sub('\\g<to_add1> . \\g<to_add3>',u2.sub('\\g<to_add2> . \\g<to_add3>',q5.sub(' . \"',\n",
    "                             q4.sub(\" . '\",q3.sub(\" ' \",q2.sub(\" ' \",p.sub(' \\g<to_fix> ',(q1.sub(' .',s)))))))))) \n",
    "                for s in tqdm(X_snts)]\n",
    "    \n",
    "    sents =[]\n",
    "\n",
    "    for s in X_sents:\n",
    "        sent = []\n",
    "        #for w in z2.sub(' ',s.lower()).strip().split(' '):\n",
    "        for w in z2.sub(' ',s).strip().split(' '):\n",
    "            if z1.match(w) is not None:\n",
    "                sent += w\n",
    "            else:\n",
    "                n_w =  w_recursive(w,vocs,iter_first=True) \n",
    "                if n_w[0] == w:\n",
    "                    sent += [w]\n",
    "                #elif n_w[0].lower() == w.lower():\n",
    "                #    sent += ['<']+[w.lower()]+['>']\n",
    "                else:\n",
    "                    sent += ['<']+n_w+['>']\n",
    "                    \n",
    "        sents.append(q6.sub(' ',' '.join(sent)).strip())\n",
    "        sents = [s for s in sents if len(s)>0]\n",
    "    \n",
    "    return sents\n",
    "\n",
    "\n",
    "def save_en_sents(sentences,fn,save_op):\n",
    "        \n",
    "    to_save = '\\n'.join(sentences)   \n",
    "\n",
    "    with open(fn,save_op) as f:\n",
    "        f.write(to_save)  \n",
    "    \n",
    "    return to_save"
   ]
  },
  {
   "cell_type": "code",
   "execution_count": null,
   "metadata": {},
   "outputs": [],
   "source": []
  }
 ],
 "metadata": {
  "kernelspec": {
   "display_name": "Python 3",
   "language": "python",
   "name": "python3"
  },
  "language_info": {
   "codemirror_mode": {
    "name": "ipython",
    "version": 3
   },
   "file_extension": ".py",
   "mimetype": "text/x-python",
   "name": "python",
   "nbconvert_exporter": "python",
   "pygments_lexer": "ipython3",
   "version": "3.7.4"
  }
 },
 "nbformat": 4,
 "nbformat_minor": 2
}
